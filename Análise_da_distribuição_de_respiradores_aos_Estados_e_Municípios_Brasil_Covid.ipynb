{
  "nbformat": 4,
  "nbformat_minor": 0,
  "metadata": {
    "colab": {
      "name": "Análise da distribuição de respiradores aos Estados e Municípios-Brasil-Covid.ipynb",
      "provenance": [],
      "authorship_tag": "ABX9TyMHMlw043sU3XSPtfpMTvua",
      "include_colab_link": true
    },
    "kernelspec": {
      "name": "python3",
      "display_name": "Python 3"
    },
    "language_info": {
      "name": "python"
    }
  },
  "cells": [
    {
      "cell_type": "markdown",
      "metadata": {
        "id": "view-in-github",
        "colab_type": "text"
      },
      "source": [
        "<a href=\"https://colab.research.google.com/github/filledeoya9/Analise_Distribuicao_de_Respiradores/blob/main/An%C3%A1lise_da_distribui%C3%A7%C3%A3o_de_respiradores_aos_Estados_e_Munic%C3%ADpios_Brasil_Covid.ipynb\" target=\"_parent\"><img src=\"https://colab.research.google.com/assets/colab-badge.svg\" alt=\"Open In Colab\"/></a>"
      ]
    },
    {
      "cell_type": "markdown",
      "metadata": {
        "id": "z_ws_XsH_htx"
      },
      "source": [
        "Vamos levantar algumas questões relevantes acerca dessa problemática:\n",
        "\n",
        "Quanto tempo demorou para que o governo comprasse os primeiros respiradores?\n",
        "Qual foi o número de respiradores adquiridos para cada estado?\n",
        "Locais com maior número de populacional receberam mais respiradores?\n",
        "\n",
        "https://dadosaocubo.com/utilizando-python-no-portal-brasileiro-de-dados-abertos-parte-i/\n",
        "\n",
        "dados extraidos de: http://dados.gov.br/dataset/distribuicao-de-respiradores em 24/07/2021\n",
        "\n"
      ]
    },
    {
      "cell_type": "code",
      "metadata": {
        "id": "tyqa0Wfi__R6"
      },
      "source": [
        "#Importando bibliotecas\n",
        "\n",
        "import numpy as np\n",
        "#biblioteca com um grande conjunto de funções e operações, muito utilizada para\n",
        "#desenvolver cálculos númericos\n",
        "\n",
        "import pandas as pd\n",
        "#biblioteca utilizada para manipulação de dados\n",
        "\n",
        "import datetime \n",
        "#fornece as classes para manipulação de datas e horas, biblioteca para  geração\n",
        "#de gráficos 2d\n",
        "\n",
        "from matplotlib import pyplot as plt \n",
        "#Para mostrar os gráficos no notebook\n",
        "#será utilizada para que as saídas de plotagem apareçam no notebook e também possa ser armazenado."
      ],
      "execution_count": 15,
      "outputs": []
    },
    {
      "cell_type": "markdown",
      "metadata": {
        "id": "nca_ZTJaMDgu"
      },
      "source": [
        ""
      ]
    },
    {
      "cell_type": "code",
      "metadata": {
        "colab": {
          "base_uri": "https://localhost:8080/"
        },
        "id": "Sn7KDExSGQl0",
        "outputId": "0dfb71b7-bc24-4a55-dd5e-1f0b26268256"
      },
      "source": [
        "\n",
        "pd.show_versions()\n",
        "#  reporta a versão de suas dependências do pandas"
      ],
      "execution_count": 3,
      "outputs": [
        {
          "output_type": "stream",
          "text": [
            "/usr/local/lib/python3.7/dist-packages/psycopg2/__init__.py:144: UserWarning: The psycopg2 wheel package will be renamed from release 2.8; in order to keep installing from binary please use \"pip install psycopg2-binary\" instead. For details see: <http://initd.org/psycopg/docs/install.html#binary-install-from-pypi>.\n",
            "  \"\"\")\n"
          ],
          "name": "stderr"
        },
        {
          "output_type": "stream",
          "text": [
            "\n",
            "INSTALLED VERSIONS\n",
            "------------------\n",
            "commit           : b5958ee1999e9aead1938c0bba2b674378807b3d\n",
            "python           : 3.7.11.final.0\n",
            "python-bits      : 64\n",
            "OS               : Linux\n",
            "OS-release       : 5.4.104+\n",
            "Version          : #1 SMP Sat Jun 5 09:50:34 PDT 2021\n",
            "machine          : x86_64\n",
            "processor        : x86_64\n",
            "byteorder        : little\n",
            "LC_ALL           : None\n",
            "LANG             : en_US.UTF-8\n",
            "LOCALE           : en_US.UTF-8\n",
            "\n",
            "pandas           : 1.1.5\n",
            "numpy            : 1.19.5\n",
            "pytz             : 2018.9\n",
            "dateutil         : 2.8.1\n",
            "pip              : 21.1.3\n",
            "setuptools       : 57.2.0\n",
            "Cython           : 0.29.23\n",
            "pytest           : 3.6.4\n",
            "hypothesis       : None\n",
            "sphinx           : 1.8.5\n",
            "blosc            : None\n",
            "feather          : 0.4.1\n",
            "xlsxwriter       : None\n",
            "lxml.etree       : 4.2.6\n",
            "html5lib         : 1.0.1\n",
            "pymysql          : None\n",
            "psycopg2         : 2.7.6.1 (dt dec pq3 ext lo64)\n",
            "jinja2           : 2.11.3\n",
            "IPython          : 5.5.0\n",
            "pandas_datareader: 0.9.0\n",
            "bs4              : 4.6.3\n",
            "bottleneck       : 1.3.2\n",
            "fsspec           : None\n",
            "fastparquet      : None\n",
            "gcsfs            : None\n",
            "matplotlib       : 3.2.2\n",
            "numexpr          : 2.7.3\n",
            "odfpy            : None\n",
            "openpyxl         : 2.5.9\n",
            "pandas_gbq       : 0.13.3\n",
            "pyarrow          : 3.0.0\n",
            "pytables         : None\n",
            "pyxlsb           : None\n",
            "s3fs             : None\n",
            "scipy            : 1.4.1\n",
            "sqlalchemy       : 1.4.20\n",
            "tables           : 3.4.4\n",
            "tabulate         : 0.8.9\n",
            "xarray           : 0.18.2\n",
            "xlrd             : 1.1.0\n",
            "xlwt             : 1.3.0\n",
            "numba            : 0.51.2\n"
          ],
          "name": "stdout"
        }
      ]
    },
    {
      "cell_type": "code",
      "metadata": {
        "colab": {
          "base_uri": "https://localhost:8080/"
        },
        "id": "FXwzCephJ2xu",
        "outputId": "a3fcc397-393f-4873-b371-658a13cb5483"
      },
      "source": [
        "df = pd.read_csv(\"http://sage.saude.gov.br/dados/repositorio/distribuicao_respiradores.csv\", error_bad_lines=False, encoding = 'latin1')\n",
        "\n",
        "#RESOLUÇÃO DE ERROS\n",
        "# alguns erros foram apresentados quando tentei rodar somente df = pd.read_csv(\"http://sage.saude.gov.br/dados/repositorio/distribuicao_respiradores.csv\")\n",
        "\n",
        "#OBS: Não esqueça a vírgula antes de incluir as modificações\n",
        "\n",
        "#Erro 1: ParserError: Error tokenizing data. C error: Expected 2 fields in line 2644, saw 3\n",
        "# resolução: adicionei error_bad_lines=False para qua as linhas incorretas fossem  ignoradas\n",
        "\n",
        "#Erro 2: UnicodeDecodeError: 'utf-8' codec can't decode byte 0xfa in position 28: invalid start byte\n",
        "# resolução : utilizei encoding = 'latin1' para codificação como latin1 para \n",
        "#ler este arquivo, pois há alguns caracteres especiais neste arquivo."
      ],
      "execution_count": 4,
      "outputs": [
        {
          "output_type": "stream",
          "text": [
            "b'Skipping line 2644: expected 2 fields, saw 3\\n'\n"
          ],
          "name": "stderr"
        }
      ]
    },
    {
      "cell_type": "markdown",
      "metadata": {
        "id": "-GIPEs4nOqy3"
      },
      "source": [
        ""
      ]
    },
    {
      "cell_type": "code",
      "metadata": {
        "colab": {
          "base_uri": "https://localhost:8080/",
          "height": 255
        },
        "id": "qQaNZrEWLCsl",
        "outputId": "5a3adb76-17e4-48b3-9918-9eb91ce29d54"
      },
      "source": [
        "df.head()\n",
        "#processamento de dados\n"
      ],
      "execution_count": 5,
      "outputs": [
        {
          "output_type": "execute_result",
          "data": {
            "text/html": [
              "<div>\n",
              "<style scoped>\n",
              "    .dataframe tbody tr th:only-of-type {\n",
              "        vertical-align: middle;\n",
              "    }\n",
              "\n",
              "    .dataframe tbody tr th {\n",
              "        vertical-align: top;\n",
              "    }\n",
              "\n",
              "    .dataframe thead th {\n",
              "        text-align: right;\n",
              "    }\n",
              "</style>\n",
              "<table border=\"1\" class=\"dataframe\">\n",
              "  <thead>\n",
              "    <tr style=\"text-align: right;\">\n",
              "      <th></th>\n",
              "      <th>DATA;FORNECEDOR;DESTINO;ESTADO/MUNICIPIO;TIPO;QUANTIDADE;VALOR;DESTINATARIO;UF;DATA DE ENTREGA</th>\n",
              "    </tr>\n",
              "  </thead>\n",
              "  <tbody>\n",
              "    <tr>\n",
              "      <th>21/05/2020;VYAIRE;ACRE;ESTADO;UTI;20;R$ 1.200.000</th>\n",
              "      <td>00;Secretaria Estadual de SaÃºde;AC;23/05/2020</td>\n",
              "    </tr>\n",
              "    <tr>\n",
              "      <th>21/05/2020;MAGNAMED;ACRE;ESTADO;TRANSPORTE;10;R$ 482.900</th>\n",
              "      <td>00;Secretaria Estadual de SaÃºde;AC;23/05/2020</td>\n",
              "    </tr>\n",
              "    <tr>\n",
              "      <th>05/06/2020;LEISTUNG;ACRE;ESTADO;UTI;30;R$ 1.800.000</th>\n",
              "      <td>00;Secretaria Estadual de SaÃºde;AC;08/06/2020</td>\n",
              "    </tr>\n",
              "    <tr>\n",
              "      <th>16/06/2020;VYAIRE;ACRE;MUNICIPIO;UTI;5;R$ 300.000</th>\n",
              "      <td>00;Secretaria Municipal de SaÃºde (Sena Madure...</td>\n",
              "    </tr>\n",
              "    <tr>\n",
              "      <th>16/06/2020;MAGNAMED;ACRE;MUNICIPIO;TRANSPORTE;5;R$ 241.450</th>\n",
              "      <td>00;Secretaria Municipal de SaÃºde (Sena Madure...</td>\n",
              "    </tr>\n",
              "  </tbody>\n",
              "</table>\n",
              "</div>"
            ],
            "text/plain": [
              "                                                   DATA;FORNECEDOR;DESTINO;ESTADO/MUNICIPIO;TIPO;QUANTIDADE;VALOR;DESTINATARIO;UF;DATA DE ENTREGA\n",
              "21/05/2020;VYAIRE;ACRE;ESTADO;UTI;20;R$ 1.200.000      00;Secretaria Estadual de SaÃºde;AC;23/05/2020                                            \n",
              "21/05/2020;MAGNAMED;ACRE;ESTADO;TRANSPORTE;10;R...     00;Secretaria Estadual de SaÃºde;AC;23/05/2020                                            \n",
              "05/06/2020;LEISTUNG;ACRE;ESTADO;UTI;30;R$ 1.800...     00;Secretaria Estadual de SaÃºde;AC;08/06/2020                                            \n",
              "16/06/2020;VYAIRE;ACRE;MUNICIPIO;UTI;5;R$ 300.000   00;Secretaria Municipal de SaÃºde (Sena Madure...                                            \n",
              "16/06/2020;MAGNAMED;ACRE;MUNICIPIO;TRANSPORTE;5...  00;Secretaria Municipal de SaÃºde (Sena Madure...                                            "
            ]
          },
          "metadata": {
            "tags": []
          },
          "execution_count": 5
        }
      ]
    },
    {
      "cell_type": "code",
      "metadata": {
        "colab": {
          "base_uri": "https://localhost:8080/"
        },
        "id": "g-_EmExCZ8LG",
        "outputId": "c0b866d2-8660-4b9c-9657-59582841edf0"
      },
      "source": [
        "df.shape[0]\n",
        "#verificando a quantidades de registros\n",
        "\n"
      ],
      "execution_count": 6,
      "outputs": [
        {
          "output_type": "execute_result",
          "data": {
            "text/plain": [
              "2651"
            ]
          },
          "metadata": {
            "tags": []
          },
          "execution_count": 6
        }
      ]
    },
    {
      "cell_type": "code",
      "metadata": {
        "colab": {
          "base_uri": "https://localhost:8080/"
        },
        "id": "L1GI5cpU0Kn9",
        "outputId": "68b899d8-fef3-4e41-de78-511cc0da86df"
      },
      "source": [
        "# enumerando os atributos constantes no dataframe\n",
        "# dtype='object' :Um objeto de tipo de dados (uma instância de numpy.dtypeclasse)\n",
        "# descreve como os bytes no bloco de memória de tamanho fixo correspondente a um item de array \n",
        "#devem ser interpretados. \n",
        "\n",
        "df.columns\n"
      ],
      "execution_count": 35,
      "outputs": [
        {
          "output_type": "execute_result",
          "data": {
            "text/plain": [
              "Index(['DATA;FORNECEDOR;DESTINO;ESTADO/MUNICIPIO;TIPO;QUANTIDADE;VALOR;DESTINATARIO;UF;DATA DE ENTREGA'], dtype='object')"
            ]
          },
          "metadata": {
            "tags": []
          },
          "execution_count": 35
        }
      ]
    },
    {
      "cell_type": "code",
      "metadata": {
        "colab": {
          "base_uri": "https://localhost:8080/"
        },
        "id": "uPtslxb-UVdt",
        "outputId": "1ddcaa8f-3a19-4c10-e56d-6c69a060623f"
      },
      "source": [
        "#verificando existência de campos nulos\n",
        "df.isnull().sum()"
      ],
      "execution_count": 31,
      "outputs": [
        {
          "output_type": "execute_result",
          "data": {
            "text/plain": [
              "DATA;FORNECEDOR;DESTINO;ESTADO/MUNICIPIO;TIPO;QUANTIDADE;VALOR;DESTINATARIO;UF;DATA DE ENTREGA    0\n",
              "dtype: int64"
            ]
          },
          "metadata": {
            "tags": []
          },
          "execution_count": 31
        }
      ]
    },
    {
      "cell_type": "code",
      "metadata": {
        "colab": {
          "base_uri": "https://localhost:8080/"
        },
        "id": "ZbYG3KEEmV1R",
        "outputId": "eacc1661-faf9-4562-f75c-f19e75b2bb8b"
      },
      "source": [
        "# verificando existência de campos nulos\n",
        "df.isnull().sum()"
      ],
      "execution_count": 36,
      "outputs": [
        {
          "output_type": "execute_result",
          "data": {
            "text/plain": [
              "DATA;FORNECEDOR;DESTINO;ESTADO/MUNICIPIO;TIPO;QUANTIDADE;VALOR;DESTINATARIO;UF;DATA DE ENTREGA    0\n",
              "dtype: int64"
            ]
          },
          "metadata": {
            "tags": []
          },
          "execution_count": 36
        }
      ]
    }
  ]
}